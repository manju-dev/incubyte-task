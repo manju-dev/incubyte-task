{
  "nbformat": 4,
  "nbformat_minor": 0,
  "metadata": {
    "colab": {
      "name": "incubyte-task.ipynb",
      "provenance": [],
      "collapsed_sections": [],
      "toc_visible": true
    },
    "kernelspec": {
      "name": "python3",
      "display_name": "Python 3"
    },
    "language_info": {
      "name": "python"
    }
  },
  "cells": [
    {
      "cell_type": "markdown",
      "metadata": {
        "id": "2SrUnNd4t6PI"
      },
      "source": [
        "# Incubyte - Task\n",
        "\n",
        "Read data and insert it into tabes as per given specification.\n",
        "\n",
        "Using Python, Pandas and SQLite"
      ]
    },
    {
      "cell_type": "markdown",
      "metadata": {
        "id": "I6Oi9j9Ezm5U"
      },
      "source": [
        "## Setup"
      ]
    },
    {
      "cell_type": "code",
      "metadata": {
        "colab": {
          "base_uri": "https://localhost:8080/"
        },
        "id": "BpSLcHHt28Ue",
        "outputId": "f8b5b4de-ea53-45fb-ed55-0ec27d8cc48e"
      },
      "source": [
        "# list package versions\n",
        "!pip list | grep 'pandas\\|sqllite3'"
      ],
      "execution_count": 1,
      "outputs": [
        {
          "output_type": "stream",
          "text": [
            "pandas                        1.1.5         \n",
            "pandas-datareader             0.9.0         \n",
            "pandas-gbq                    0.13.3        \n",
            "pandas-profiling              1.4.1         \n",
            "sklearn-pandas                1.8.0         \n"
          ],
          "name": "stdout"
        }
      ]
    },
    {
      "cell_type": "code",
      "metadata": {
        "colab": {
          "base_uri": "https://localhost:8080/"
        },
        "id": "Eo4Z-Ib0roke",
        "outputId": "2a8fc224-215e-4003-f47e-7654aaeeaae5"
      },
      "source": [
        "# data directory\n",
        "!ls 'drive/MyDrive/Incubyte'"
      ],
      "execution_count": 2,
      "outputs": [
        {
          "output_type": "stream",
          "text": [
            "'Data Engineer Assessment.pdf'\t sample.txt\n"
          ],
          "name": "stdout"
        }
      ]
    },
    {
      "cell_type": "code",
      "metadata": {
        "id": "ByZoV80k3JGw"
      },
      "source": [
        "# import packages\n",
        "import pandas as pd\n",
        "import sqlite3"
      ],
      "execution_count": 3,
      "outputs": []
    },
    {
      "cell_type": "code",
      "metadata": {
        "id": "EnLXNmkBvFZ-"
      },
      "source": [
        "path_to_file = 'drive/MyDrive/Incubyte/sample.txt'"
      ],
      "execution_count": 4,
      "outputs": []
    },
    {
      "cell_type": "markdown",
      "metadata": {
        "id": "QetUTX1hMDZ_"
      },
      "source": [
        "## Specification"
      ]
    },
    {
      "cell_type": "code",
      "metadata": {
        "id": "BLew0YV0gMh8"
      },
      "source": [
        "# column names\n",
        "columns = ['Customer_Name', 'Customer_Id', 'Open_Date', 'Last_Consulted_Date', \n",
        "           'Vaccination_Id', 'Dr_Name', 'State', 'Country', 'Post_Code',\n",
        "           'DOB', 'Is_Active']"
      ],
      "execution_count": 5,
      "outputs": []
    },
    {
      "cell_type": "code",
      "metadata": {
        "colab": {
          "base_uri": "https://localhost:8080/"
        },
        "id": "XACRXh1Guu70",
        "outputId": "2e1a0f59-6bdd-4d5e-c6b7-baebf165f80c"
      },
      "source": [
        "# sample data file\n",
        "!cat 'drive/MyDrive/Incubyte/sample.txt'"
      ],
      "execution_count": 6,
      "outputs": [
        {
          "output_type": "stream",
          "text": [
            "|H|Customer_Name|Customer_Id|Open_Date|Last_Consulted_Date|Vaccination_Id|Dr_Name|State|Country|DOB|Is_Active\n",
            "|D|Alex|123457|20101012|20121013|MVD|Paul|SA|USA|06031987|A\n",
            "|D|John|123458|20101012|20121013|MVD|Paul|TN|IND|06031987|A\n",
            "|D|Mathew|123459|20101012|20121013|MVD|Paul|WAS|PHIL|06031987|A\n",
            "|D|Matt|12345|20101012|20121013|MVD|Paul|BOS|NYC|06031987|A\n",
            "|D|Jacob|1256|20101012|20121013|MVD|Paul|VIC|AU|06031987|A\n"
          ],
          "name": "stdout"
        }
      ]
    },
    {
      "cell_type": "code",
      "metadata": {
        "id": "B1QyWSXkMTov"
      },
      "source": [
        "# query to create table, if it doeasnt already exists\n",
        "\n",
        "create_table_query = \"\"\"\n",
        "                     CREATE TABLE IF NOT EXISTS {table_name} (\n",
        "                         Customer_Name VARCHAR(255) NOT NULL PRIMARY KEY,\n",
        "                         Customer_Id VARCHAR(18) NOT NULL,\n",
        "                         Open_Date DATE(8) NOT NULL,\n",
        "                         Last_Consulted_Date DATE(8),\n",
        "                         Vaccination_Id CHAR(5),\n",
        "                         Dr_Name CHAR(255),\n",
        "                         State CHAR(5),\n",
        "                         Country CHAR(5),\n",
        "                         Post_Code INT(5),\n",
        "                         DOB DATE(8),\n",
        "                         Is_Active CHAR(1)\n",
        "                     )\n",
        "                     \"\"\""
      ],
      "execution_count": 7,
      "outputs": []
    },
    {
      "cell_type": "code",
      "metadata": {
        "colab": {
          "base_uri": "https://localhost:8080/"
        },
        "id": "rfqMIU4zMVrJ",
        "outputId": "a1efe4ed-2970-4d27-8b02-ab02f5110488"
      },
      "source": [
        "# Create a test table and check specification\n",
        "\n",
        "DB_NAME = 'hospital_chain.db'\n",
        "TABLE_NAME = 'Table_XXXXX'\n",
        "\n",
        "# init db connection\n",
        "with sqlite3.connect(DB_NAME) as db:\n",
        "    cur = db.cursor()\n",
        "    \n",
        "    cur.execute(create_table_query.format(table_name=TABLE_NAME))\n",
        "\n",
        "    table_info = cur.execute(\"pragma table_info({0})\".format(TABLE_NAME))\n",
        "    for column in table_info.fetchall():\n",
        "        print(column)"
      ],
      "execution_count": 8,
      "outputs": [
        {
          "output_type": "stream",
          "text": [
            "(0, 'Customer_Name', 'VARCHAR(255)', 1, None, 1)\n",
            "(1, 'Customer_Id', 'VARCHAR(18)', 1, None, 0)\n",
            "(2, 'Open_Date', 'DATE(8)', 1, None, 0)\n",
            "(3, 'Last_Consulted_Date', 'DATE(8)', 0, None, 0)\n",
            "(4, 'Vaccination_Id', 'CHAR(5)', 0, None, 0)\n",
            "(5, 'Dr_Name', 'CHAR(255)', 0, None, 0)\n",
            "(6, 'State', 'CHAR(5)', 0, None, 0)\n",
            "(7, 'Country', 'CHAR(5)', 0, None, 0)\n",
            "(8, 'Post_Code', 'INT(5)', 0, None, 0)\n",
            "(9, 'DOB', 'DATE(8)', 0, None, 0)\n",
            "(10, 'Is_Active', 'CHAR(1)', 0, None, 0)\n"
          ],
          "name": "stdout"
        }
      ]
    },
    {
      "cell_type": "markdown",
      "metadata": {
        "id": "5BwhTsK2NaOB"
      },
      "source": [
        "All the columns are as per specification. Now we can move onto processing data."
      ]
    },
    {
      "cell_type": "markdown",
      "metadata": {
        "id": "6bjqyUh6zkFj"
      },
      "source": [
        "## Read data"
      ]
    },
    {
      "cell_type": "code",
      "metadata": {
        "colab": {
          "base_uri": "https://localhost:8080/"
        },
        "id": "DMeF_vU6vJqj",
        "outputId": "a18857ba-7059-4431-f61b-515ced82c7be"
      },
      "source": [
        "# just python\n",
        "with open(path_to_file) as f:\n",
        "    for line in f.readlines():\n",
        "        print(line)"
      ],
      "execution_count": 9,
      "outputs": [
        {
          "output_type": "stream",
          "text": [
            "|H|Customer_Name|Customer_Id|Open_Date|Last_Consulted_Date|Vaccination_Id|Dr_Name|State|Country|DOB|Is_Active\n",
            "\n",
            "|D|Alex|123457|20101012|20121013|MVD|Paul|SA|USA|06031987|A\n",
            "\n",
            "|D|John|123458|20101012|20121013|MVD|Paul|TN|IND|06031987|A\n",
            "\n",
            "|D|Mathew|123459|20101012|20121013|MVD|Paul|WAS|PHIL|06031987|A\n",
            "\n",
            "|D|Matt|12345|20101012|20121013|MVD|Paul|BOS|NYC|06031987|A\n",
            "\n",
            "|D|Jacob|1256|20101012|20121013|MVD|Paul|VIC|AU|06031987|A\n",
            "\n"
          ],
          "name": "stdout"
        }
      ]
    },
    {
      "cell_type": "code",
      "metadata": {
        "colab": {
          "base_uri": "https://localhost:8080/",
          "height": 206
        },
        "id": "xOUNEN2ovA1J",
        "outputId": "c4f761df-aef9-48b2-982e-3f496bc46681"
      },
      "source": [
        "# pandas\n",
        "df = pd.read_csv(path_to_file, sep='|', header=0, usecols=range(2, 12),\n",
        "                 names=['Name', 'Cust_I', 'Open_Dt', 'Consul_Dt', 'VAC_ID', 'DR_Name', 'State', 'Country', 'DOB', 'FLAG'])\n",
        "\n",
        "df"
      ],
      "execution_count": 10,
      "outputs": [
        {
          "output_type": "execute_result",
          "data": {
            "text/html": [
              "<div>\n",
              "<style scoped>\n",
              "    .dataframe tbody tr th:only-of-type {\n",
              "        vertical-align: middle;\n",
              "    }\n",
              "\n",
              "    .dataframe tbody tr th {\n",
              "        vertical-align: top;\n",
              "    }\n",
              "\n",
              "    .dataframe thead th {\n",
              "        text-align: right;\n",
              "    }\n",
              "</style>\n",
              "<table border=\"1\" class=\"dataframe\">\n",
              "  <thead>\n",
              "    <tr style=\"text-align: right;\">\n",
              "      <th></th>\n",
              "      <th>Name</th>\n",
              "      <th>Cust_I</th>\n",
              "      <th>Open_Dt</th>\n",
              "      <th>Consul_Dt</th>\n",
              "      <th>VAC_ID</th>\n",
              "      <th>DR_Name</th>\n",
              "      <th>State</th>\n",
              "      <th>Country</th>\n",
              "      <th>DOB</th>\n",
              "      <th>FLAG</th>\n",
              "    </tr>\n",
              "  </thead>\n",
              "  <tbody>\n",
              "    <tr>\n",
              "      <th>0</th>\n",
              "      <td>Alex</td>\n",
              "      <td>123457</td>\n",
              "      <td>20101012</td>\n",
              "      <td>20121013</td>\n",
              "      <td>MVD</td>\n",
              "      <td>Paul</td>\n",
              "      <td>SA</td>\n",
              "      <td>USA</td>\n",
              "      <td>6031987</td>\n",
              "      <td>A</td>\n",
              "    </tr>\n",
              "    <tr>\n",
              "      <th>1</th>\n",
              "      <td>John</td>\n",
              "      <td>123458</td>\n",
              "      <td>20101012</td>\n",
              "      <td>20121013</td>\n",
              "      <td>MVD</td>\n",
              "      <td>Paul</td>\n",
              "      <td>TN</td>\n",
              "      <td>IND</td>\n",
              "      <td>6031987</td>\n",
              "      <td>A</td>\n",
              "    </tr>\n",
              "    <tr>\n",
              "      <th>2</th>\n",
              "      <td>Mathew</td>\n",
              "      <td>123459</td>\n",
              "      <td>20101012</td>\n",
              "      <td>20121013</td>\n",
              "      <td>MVD</td>\n",
              "      <td>Paul</td>\n",
              "      <td>WAS</td>\n",
              "      <td>PHIL</td>\n",
              "      <td>6031987</td>\n",
              "      <td>A</td>\n",
              "    </tr>\n",
              "    <tr>\n",
              "      <th>3</th>\n",
              "      <td>Matt</td>\n",
              "      <td>12345</td>\n",
              "      <td>20101012</td>\n",
              "      <td>20121013</td>\n",
              "      <td>MVD</td>\n",
              "      <td>Paul</td>\n",
              "      <td>BOS</td>\n",
              "      <td>NYC</td>\n",
              "      <td>6031987</td>\n",
              "      <td>A</td>\n",
              "    </tr>\n",
              "    <tr>\n",
              "      <th>4</th>\n",
              "      <td>Jacob</td>\n",
              "      <td>1256</td>\n",
              "      <td>20101012</td>\n",
              "      <td>20121013</td>\n",
              "      <td>MVD</td>\n",
              "      <td>Paul</td>\n",
              "      <td>VIC</td>\n",
              "      <td>AU</td>\n",
              "      <td>6031987</td>\n",
              "      <td>A</td>\n",
              "    </tr>\n",
              "  </tbody>\n",
              "</table>\n",
              "</div>"
            ],
            "text/plain": [
              "     Name  Cust_I   Open_Dt  Consul_Dt  ... State Country      DOB FLAG\n",
              "0    Alex  123457  20101012   20121013  ...    SA     USA  6031987    A\n",
              "1    John  123458  20101012   20121013  ...    TN     IND  6031987    A\n",
              "2  Mathew  123459  20101012   20121013  ...   WAS    PHIL  6031987    A\n",
              "3    Matt   12345  20101012   20121013  ...   BOS     NYC  6031987    A\n",
              "4   Jacob    1256  20101012   20121013  ...   VIC      AU  6031987    A\n",
              "\n",
              "[5 rows x 10 columns]"
            ]
          },
          "metadata": {
            "tags": []
          },
          "execution_count": 10
        }
      ]
    },
    {
      "cell_type": "markdown",
      "metadata": {
        "id": "EVixtAvm3NI1"
      },
      "source": [
        "## Load data"
      ]
    },
    {
      "cell_type": "code",
      "metadata": {
        "id": "XaLjU3fqPa2h"
      },
      "source": [
        "# run this to remove db, ignore if it doesn't exist\n",
        "!rm 'hospital_chain.db'"
      ],
      "execution_count": 11,
      "outputs": []
    },
    {
      "cell_type": "code",
      "metadata": {
        "id": "AvYapE0bFP0M"
      },
      "source": [
        "# query to insert data to table, ignore if any constraint isn't satisified\n",
        "insert_query = \"\"\"\n",
        "               INSERT OR IGNORE INTO {table_name} VALUES (?, ?, ?, ?, ?, ?, ?, ?, NULL, ?, ?)\n",
        "               \"\"\""
      ],
      "execution_count": 12,
      "outputs": []
    },
    {
      "cell_type": "code",
      "metadata": {
        "colab": {
          "base_uri": "https://localhost:8080/"
        },
        "id": "Eo5G4lAwzOtO",
        "outputId": "83cf37f3-b548-40cc-e3ff-18d5778137a4"
      },
      "source": [
        "# split data by country, create tables and insert data\n",
        "\n",
        "with sqlite3.connect(DB_NAME) as db:\n",
        "    cur = db.cursor()\n",
        "    \n",
        "    for country in df.Country.unique():\n",
        "        TABLE_NAME = 'Table_' + country\n",
        "        print('Inserting into: ', TABLE_NAME)\n",
        "        \n",
        "        cur.execute(create_table_query.format(table_name=TABLE_NAME))\n",
        "\n",
        "        rows = df[df.Country==country].values\n",
        "        cur.executemany(insert_query.format(table_name=TABLE_NAME), rows)"
      ],
      "execution_count": 13,
      "outputs": [
        {
          "output_type": "stream",
          "text": [
            "Inserting into:  Table_USA\n",
            "Inserting into:  Table_IND\n",
            "Inserting into:  Table_PHIL\n",
            "Inserting into:  Table_NYC\n",
            "Inserting into:  Table_AU\n"
          ],
          "name": "stdout"
        }
      ]
    },
    {
      "cell_type": "code",
      "metadata": {
        "colab": {
          "base_uri": "https://localhost:8080/"
        },
        "id": "fIFOER2o7w2s",
        "outputId": "207240db-ba3b-41d6-dccc-35644ed544dc"
      },
      "source": [
        "# inspect data in db\n",
        "\n",
        "with sqlite3.connect(DB_NAME) as db:\n",
        "    cur = db.cursor()\n",
        "    \n",
        "    for country in df.Country.unique():\n",
        "        TABLE_NAME = 'Table_' + country\n",
        "\n",
        "        cur.execute(\"SELECT COUNT(1) FROM {}\".format(TABLE_NAME))\n",
        "        print('\\n{name} : {records} records'.format(name=TABLE_NAME, records=cur.fetchone()[0]))\n",
        "\n",
        "        print(cur.execute(\"SELECT * FROM {}\".format(TABLE_NAME)).fetchall())"
      ],
      "execution_count": 14,
      "outputs": [
        {
          "output_type": "stream",
          "text": [
            "\n",
            "Table_USA : 1 records\n",
            "[('Alex', '123457', 20101012, 20121013, 'MVD', 'Paul', 'SA', 'USA', None, 6031987, 'A')]\n",
            "\n",
            "Table_IND : 1 records\n",
            "[('John', '123458', 20101012, 20121013, 'MVD', 'Paul', 'TN', 'IND', None, 6031987, 'A')]\n",
            "\n",
            "Table_PHIL : 1 records\n",
            "[('Mathew', '123459', 20101012, 20121013, 'MVD', 'Paul', 'WAS', 'PHIL', None, 6031987, 'A')]\n",
            "\n",
            "Table_NYC : 1 records\n",
            "[('Matt', '12345', 20101012, 20121013, 'MVD', 'Paul', 'BOS', 'NYC', None, 6031987, 'A')]\n",
            "\n",
            "Table_AU : 1 records\n",
            "[('Jacob', '1256', 20101012, 20121013, 'MVD', 'Paul', 'VIC', 'AU', None, 6031987, 'A')]\n"
          ],
          "name": "stdout"
        }
      ]
    }
  ]
}